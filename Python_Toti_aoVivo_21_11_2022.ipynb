{
  "nbformat": 4,
  "nbformat_minor": 0,
  "metadata": {
    "colab": {
      "private_outputs": true,
      "provenance": [],
      "authorship_tag": "ABX9TyMC3IbUNyExZbCkRXm1/1m0",
      "include_colab_link": true
    },
    "kernelspec": {
      "name": "python3",
      "display_name": "Python 3"
    },
    "language_info": {
      "name": "python"
    }
  },
  "cells": [
    {
      "cell_type": "markdown",
      "metadata": {
        "id": "view-in-github",
        "colab_type": "text"
      },
      "source": [
        "<a href=\"https://colab.research.google.com/github/MaolyLara/python_toti/blob/main/Python_Toti_aoVivo_21_11_2022.ipynb\" target=\"_parent\"><img src=\"https://colab.research.google.com/assets/colab-badge.svg\" alt=\"Open In Colab\"/></a>"
      ]
    },
    {
      "cell_type": "markdown",
      "source": [
        "Exercício 1\n",
        "Faça um programa que peça um número inteiro e informe ao usuário se é par ou ímpar.\n",
        "\n",
        "`O número informado é [par ou ímpar]`"
      ],
      "metadata": {
        "id": "Y9OdQztktLK4"
      }
    },
    {
      "cell_type": "code",
      "execution_count": null,
      "metadata": {
        "id": "Wb-vT6JSd8Vl"
      },
      "outputs": [],
      "source": [
        "num = int(input(\"Digite o primeiro valor: \"))\n",
        "if num %2 == 0:\n",
        "  print(\"Seu número é par\")\n",
        "else:\n",
        "  print(\"Seu número é ímpar\")"
      ]
    },
    {
      "cell_type": "markdown",
      "source": [
        "##**Exercício 2**\n",
        "Faça um programa que solicite o nome do usuário e imprima-o na vertical. Exemplo:\n",
        "\n",
        "Entrada: `FULANO` Saída:"
      ],
      "metadata": {
        "id": "9B8ZLMFOtKro"
      }
    },
    {
      "cell_type": "code",
      "source": [
        "print(*input(\"Novamente digite seu nome: \"), sep=\"\\n\")"
      ],
      "metadata": {
        "id": "mLhJzdAqrvhP"
      },
      "execution_count": null,
      "outputs": []
    },
    {
      "cell_type": "markdown",
      "source": [
        "Usando FOR\n"
      ],
      "metadata": {
        "id": "oBXY0mZEzIv9"
      }
    },
    {
      "cell_type": "code",
      "source": [
        "palavra = input('Digite uma palavra: ')\n",
        "\n",
        "for c in palavra:\n",
        "    print(c)\n",
        "    "
      ],
      "metadata": {
        "id": "eH38Kfwcy4m0"
      },
      "execution_count": null,
      "outputs": []
    },
    {
      "cell_type": "markdown",
      "source": [
        "Usando WHILE"
      ],
      "metadata": {
        "id": "0w-lvRoQzNu8"
      }
    },
    {
      "cell_type": "code",
      "source": [
        "print(\"-\"*30)\n",
        "nome = str(input(\"Digite seu nome: \"))\n",
        "cont = 0 # era '0' string\n",
        "while cont < len(nome): # aki coloquei len(nome) que é o tamanho\n",
        "    c = int(cont)\n",
        "    print(nome[c])\n",
        "    cont += 1 # aki estava '1' string\n",
        "\n",
        "  \n"
      ],
      "metadata": {
        "id": "NAgFxtXMzCal"
      },
      "execution_count": null,
      "outputs": []
    },
    {
      "cell_type": "markdown",
      "source": [
        "##**Exercício 3**\n",
        "\n",
        "Faça um programa que peça um numero inteiro positivo e em seguida mostre este numero invertido. Saída: Entrada:\n"
      ],
      "metadata": {
        "id": "rc-bWDvys_SJ"
      }
    },
    {
      "cell_type": "code",
      "source": [
        "numero  =  input ( \"Digite um inteiro positivo: \" )\n",
        "numero  =  numero [:: - 1 ]\n",
        "print ( f\"=> { numero } \" )"
      ],
      "metadata": {
        "id": "6p7wKeZxsFXg"
      },
      "execution_count": null,
      "outputs": []
    },
    {
      "cell_type": "markdown",
      "source": [
        "##**Exercício 4**\n",
        "Um palíndromo é uma sequência de caracteres cuja leitura é idêntica se feita da direita para esquerda ou vice−versa. Por exemplo: OSSO e OVO são palíndromos. Faça um programa que uma palavra ao usuário e retorne dizendo se são palíndromos ou não."
      ],
      "metadata": {
        "id": "fk1_WCS9s37P"
      }
    },
    {
      "cell_type": "code",
      "source": [
        "expressao = input('Escreva uma expressão: ').upper().replace(' ', '')\n",
        "expInv = expressao[::-1]\n",
        "if expressao == expInv:\n",
        "    print('É palíndromo, pois, {} --> {}.'.format(expressao, expInv))\n",
        "else:\n",
        "    print('Não é palíndromo.')"
      ],
      "metadata": {
        "id": "00h-MhrqsbEu"
      },
      "execution_count": null,
      "outputs": []
    },
    {
      "cell_type": "code",
      "source": [
        "def fazModDois(num, divisor):\n",
        "  return num % 2\n",
        "def checkFaridade(num):\n",
        "  resto = fazMod(num, 2)\n",
        "\n",
        "  if resto == 0:\n",
        "    print('É par: ')\n",
        "  else:\n",
        "    print('É impar: ')\n"
      ],
      "metadata": {
        "id": "qU1Dvi_Sv9Po"
      },
      "execution_count": null,
      "outputs": []
    },
    {
      "cell_type": "markdown",
      "source": [
        "larissa.galeno@prof.totidiversidade.com.br\n",
        "\n",
        "\n",
        "https://github.com/lagaleno/toti/blob/main/Python/python-2-semresposta.md"
      ],
      "metadata": {
        "id": "ZBAPqqdS1j5x"
      }
    },
    {
      "cell_type": "code",
      "source": [],
      "metadata": {
        "id": "Au2c8opV1cdV"
      },
      "execution_count": null,
      "outputs": []
    }
  ]
}