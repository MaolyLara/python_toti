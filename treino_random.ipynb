{
  "nbformat": 4,
  "nbformat_minor": 0,
  "metadata": {
    "colab": {
      "private_outputs": true,
      "provenance": [],
      "authorship_tag": "ABX9TyMd2oasCNfjkgyGCoTZ8qOK",
      "include_colab_link": true
    },
    "kernelspec": {
      "name": "python3",
      "display_name": "Python 3"
    },
    "language_info": {
      "name": "python"
    }
  },
  "cells": [
    {
      "cell_type": "markdown",
      "metadata": {
        "id": "view-in-github",
        "colab_type": "text"
      },
      "source": [
        "<a href=\"https://colab.research.google.com/github/MaolyLara/python_toti/blob/main/treino_random.ipynb\" target=\"_parent\"><img src=\"https://colab.research.google.com/assets/colab-badge.svg\" alt=\"Open In Colab\"/></a>"
      ]
    },
    {
      "cell_type": "markdown",
      "source": [
        "Operador AND\n",
        " \n",
        "V and V = V\n",
        "\n",
        "V and F = F\n",
        "\n",
        "F and V = F\n",
        "\n",
        "F and F = F\n",
        "\n",
        "Operador OR\n",
        "\n",
        "V or V = V\n",
        "\n",
        "V or F = V\n",
        "\n",
        "F or V = V\n",
        "\n",
        "F or F = F\n"
      ],
      "metadata": {
        "id": "MvmYodCcXOxA"
      }
    },
    {
      "cell_type": "code",
      "execution_count": null,
      "metadata": {
        "id": "Bk_btPG3ScXi"
      },
      "outputs": [],
      "source": [
        "len('oi') >= len('olá')"
      ]
    },
    {
      "cell_type": "code",
      "source": [
        "1>2 or 3<4 and not (10<20)"
      ],
      "metadata": {
        "id": "likX3VLsXf8n"
      },
      "execution_count": null,
      "outputs": []
    },
    {
      "cell_type": "code",
      "source": [
        "num1 = float(input('Ingrese um número: '))\n",
        "num2 = float(input('Ingrese mais um número: '))\n",
        "\n",
        "if (num1 > num2):\n",
        "  print (num1)\n",
        "elif(num1< num2):\n",
        "  print (num2)"
      ],
      "metadata": {
        "id": "-ksSWrw3bXz-"
      },
      "execution_count": null,
      "outputs": []
    }
  ]
}