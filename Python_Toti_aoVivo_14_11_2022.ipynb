{
  "nbformat": 4,
  "nbformat_minor": 0,
  "metadata": {
    "colab": {
      "provenance": [],
      "authorship_tag": "ABX9TyO319+zwV5Ng6RRHQLNyzwf",
      "include_colab_link": true
    },
    "kernelspec": {
      "name": "python3",
      "display_name": "Python 3"
    },
    "language_info": {
      "name": "python"
    }
  },
  "cells": [
    {
      "cell_type": "markdown",
      "metadata": {
        "id": "view-in-github",
        "colab_type": "text"
      },
      "source": [
        "<a href=\"https://colab.research.google.com/github/MaolyLara/python_toti/blob/main/Python_Toti_aoVivo_14_11_2022.ipynb\" target=\"_parent\"><img src=\"https://colab.research.google.com/assets/colab-badge.svg\" alt=\"Open In Colab\"/></a>"
      ]
    },
    {
      "cell_type": "markdown",
      "source": [
        "## Exercício 1\n",
        "\n",
        "**Faça um programa que peça um número inteiro e então imprima a mensagem**\n",
        "\n",
        "1.   O número informado foi [número]"
      ],
      "metadata": {
        "id": "NYPrF9zNjx61"
      }
    },
    {
      "cell_type": "code",
      "execution_count": null,
      "metadata": {
        "id": "JOk7mnfVxbgj",
        "colab": {
          "base_uri": "https://localhost:8080/"
        },
        "outputId": "53ba652c-580a-4c5d-f099-99e50b1bdc78"
      },
      "outputs": [
        {
          "output_type": "stream",
          "name": "stdout",
          "text": [
            "Informe um numero: 2\n",
            "Seu número é 2\n"
          ]
        }
      ],
      "source": [
        "num= int(input('Informe um numero: '))\n",
        "\n",
        "print( f'Seu número é {num}')\n"
      ]
    },
    {
      "cell_type": "markdown",
      "source": [
        "## Exercício 2\n",
        "\n",
        "1.  Faça um Programa que peça dois números e imprima a soma.\n",
        "\n",
        "\n",
        "\n",
        "\n"
      ],
      "metadata": {
        "id": "9twcwVs1kPDj"
      }
    },
    {
      "cell_type": "code",
      "source": [
        "num1= float(input('Informe um numero: '))\n",
        "num2= float(input('Informe um numero: '))\n",
        "\n",
        "soma= num1 + num2\n",
        "\n",
        "print( f'Seu número é {soma}')"
      ],
      "metadata": {
        "id": "1dI6UCYrxpC_",
        "colab": {
          "base_uri": "https://localhost:8080/"
        },
        "outputId": "0252d548-3ea6-437d-be4b-4fd60965046d"
      },
      "execution_count": null,
      "outputs": [
        {
          "output_type": "stream",
          "name": "stdout",
          "text": [
            "Informe um numero: 16.5\n",
            "Informe um numero: 0.5\n",
            "Seu número é 17.0\n"
          ]
        }
      ]
    },
    {
      "cell_type": "markdown",
      "source": [
        "## Exercício 3\n",
        "\n",
        "Tendo como dados de entrada a altura de uma pessoa, construa um algoritmo que calcule seu peso ideal, usando a seguinte fórmula:\n",
        "\n",
        "**(72.7*altura) - 58**"
      ],
      "metadata": {
        "id": "zlZQ2TYrl0Wy"
      }
    },
    {
      "cell_type": "code",
      "source": [
        "'''\n",
        "\n",
        "Comentario em bloque\n",
        "\n",
        "'''\n",
        "\n",
        "altura= float(input('Informe seu altura: '))\n",
        "\n",
        "peso= (72.7*altura) - 58\n",
        "\n",
        "print( f'Seu peso ideal é {peso}')"
      ],
      "metadata": {
        "id": "vK5MB8KiyO71",
        "colab": {
          "base_uri": "https://localhost:8080/"
        },
        "outputId": "3dd44e9e-eac3-41ca-c2bc-eea23967ee27"
      },
      "execution_count": null,
      "outputs": [
        {
          "output_type": "stream",
          "name": "stdout",
          "text": [
            "Informe seu altura: 1.70\n",
            "Seu peso ideal é 65.59\n"
          ]
        }
      ]
    },
    {
      "cell_type": "markdown",
      "source": [
        "## Exercício 4\n",
        "\n",
        "Faça um programa que leia 2 strings e informe o conteúdo delas seguido do seu comprimento. Exemplo:\n",
        "\n",
        "\n",
        "*   Entre com a string1: Brasil Hexa 2022\n",
        "*   Entre com a string2: Brasil! Hexa 2022!\n",
        "\n",
        "\n",
        "1.   Tamanho de \"Brasil Hexa 2022\": 16 caracteres\n",
        "2.   Tamanho de \"Brasil! Hexa 2022!\": 18 caracteres\n"
      ],
      "metadata": {
        "id": "rG8V1NISmMiY"
      }
    },
    {
      "cell_type": "code",
      "source": [
        "leia1= input(\"Digite a primeira frase: \")\n",
        "leia2= input(\"Digite a segunda frase: \")\n",
        "\n",
        "comprimento1= len(leia1)\n",
        "comprimento2= len(leia2)\n",
        "\n",
        "print( leia1 + \" \" + str(comprimento1))\n",
        "print( leia2 + \" \" + str(comprimento2))"
      ],
      "metadata": {
        "colab": {
          "base_uri": "https://localhost:8080/"
        },
        "id": "OOfFFc4Qg5l6",
        "outputId": "7633abe2-2232-4f31-ffbd-8b4760b8e7cc"
      },
      "execution_count": null,
      "outputs": [
        {
          "output_type": "stream",
          "name": "stdout",
          "text": [
            "Digite a primeira frase: Maoly Lara Serrano\n",
            "Digite a segunda frase: Larrissa professora da Toti\n",
            "Maoly Lara Serrano 18\n",
            "Larrissa professora da Toti 27\n"
          ]
        }
      ]
    },
    {
      "cell_type": "code",
      "source": [
        "a = \"sou larissa\"\n",
        "\n",
        "print(a[-1])\n",
        "\n",
        "str(2)"
      ],
      "metadata": {
        "colab": {
          "base_uri": "https://localhost:8080/",
          "height": 53
        },
        "id": "hdDmYb7wwPIe",
        "outputId": "36d263ff-66a9-4ef1-d265-5d70be78dd2e"
      },
      "execution_count": null,
      "outputs": [
        {
          "output_type": "stream",
          "name": "stdout",
          "text": [
            "a\n"
          ]
        },
        {
          "output_type": "execute_result",
          "data": {
            "text/plain": [
              "'2'"
            ],
            "application/vnd.google.colaboratory.intrinsic+json": {
              "type": "string"
            }
          },
          "metadata": {},
          "execution_count": 20
        }
      ]
    }
  ]
}